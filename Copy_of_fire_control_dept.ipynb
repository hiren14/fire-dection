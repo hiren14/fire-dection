{
  "cells": [
    {
      "cell_type": "markdown",
      "metadata": {
        "id": "view-in-github",
        "colab_type": "text"
      },
      "source": [
        "<a href=\"https://colab.research.google.com/github/hiren14/fire-dection/blob/main/Copy_of_fire_control_dept.ipynb\" target=\"_parent\"><img src=\"https://colab.research.google.com/assets/colab-badge.svg\" alt=\"Open In Colab\"/></a>"
      ]
    },
    {
      "cell_type": "code",
      "execution_count": null,
      "metadata": {
        "id": "_sEdK5ns5NOE",
        "outputId": "85b5bc57-2fce-4cc1-dc88-b77973d2f11e",
        "colab": {
          "base_uri": "https://localhost:8080/"
        }
      },
      "outputs": [
        {
          "output_type": "stream",
          "name": "stdout",
          "text": [
            "Cloning into 'fire-detection-from-images'...\n",
            "remote: Enumerating objects: 737, done.\u001b[K\n",
            "remote: Counting objects: 100% (363/363), done.\u001b[K\n",
            "remote: Compressing objects: 100% (268/268), done.\u001b[K\n",
            "remote: Total 737 (delta 171), reused 271 (delta 90), pack-reused 374\u001b[K\n",
            "Receiving objects: 100% (737/737), 133.53 MiB | 25.89 MiB/s, done.\n",
            "Resolving deltas: 100% (312/312), done.\n"
          ]
        }
      ],
      "source": [
        "!git clone https://github.com/robmarkcole/fire-detection-from-images.git"
      ]
    },
    {
      "cell_type": "code",
      "source": [
        "from google.colab import drive\n",
        "drive.mount('/content/drive')"
      ],
      "metadata": {
        "colab": {
          "base_uri": "https://localhost:8080/"
        },
        "id": "3dvtgWGhBRyp",
        "outputId": "7e6b39d0-0ccf-4013-b8cd-05c90ec0f5fb"
      },
      "execution_count": null,
      "outputs": [
        {
          "output_type": "stream",
          "name": "stdout",
          "text": [
            "Mounted at /content/drive\n"
          ]
        }
      ]
    },
    {
      "cell_type": "code",
      "execution_count": null,
      "metadata": {
        "id": "8XmhBFw4K23o",
        "outputId": "62aabde5-a192-4add-a308-b543fa77e4a3",
        "colab": {
          "base_uri": "https://localhost:8080/"
        }
      },
      "outputs": [
        {
          "output_type": "stream",
          "name": "stdout",
          "text": [
            "/content/fire-detection-from-images\n"
          ]
        }
      ],
      "source": [
        "%cd \"/content/fire-detection-from-images\""
      ]
    },
    {
      "cell_type": "code",
      "execution_count": null,
      "metadata": {
        "id": "1131er_FK3hQ",
        "outputId": "933eed7b-d4ca-4943-a614-13ccdd417d31",
        "colab": {
          "base_uri": "https://localhost:8080/"
        }
      },
      "outputs": [
        {
          "output_type": "stream",
          "name": "stdout",
          "text": [
            "Cloning into 'yolov5'...\n",
            "remote: Enumerating objects: 10344, done.\u001b[K\n",
            "remote: Total 10344 (delta 0), reused 0 (delta 0), pack-reused 10344\u001b[K\n",
            "Receiving objects: 100% (10344/10344), 10.59 MiB | 19.64 MiB/s, done.\n",
            "Resolving deltas: 100% (7143/7143), done.\n"
          ]
        }
      ],
      "source": [
        "!git clone https://github.com/ultralytics/yolov5.git"
      ]
    },
    {
      "cell_type": "code",
      "execution_count": null,
      "metadata": {
        "id": "r8KERmc86YjV",
        "colab": {
          "base_uri": "https://localhost:8080/"
        },
        "outputId": "2ef4174f-93ad-4731-e0f0-d33018590488"
      },
      "outputs": [
        {
          "output_type": "stream",
          "name": "stdout",
          "text": [
            "Collecting gradio\n",
            "  Downloading gradio-2.6.2-py3-none-any.whl (895 kB)\n",
            "\u001b[?25l\r\u001b[K     |▍                               | 10 kB 19.8 MB/s eta 0:00:01\r\u001b[K     |▊                               | 20 kB 26.1 MB/s eta 0:00:01\r\u001b[K     |█                               | 30 kB 14.9 MB/s eta 0:00:01\r\u001b[K     |█▌                              | 40 kB 11.3 MB/s eta 0:00:01\r\u001b[K     |█▉                              | 51 kB 8.2 MB/s eta 0:00:01\r\u001b[K     |██▏                             | 61 kB 7.4 MB/s eta 0:00:01\r\u001b[K     |██▋                             | 71 kB 8.2 MB/s eta 0:00:01\r\u001b[K     |███                             | 81 kB 9.2 MB/s eta 0:00:01\r\u001b[K     |███▎                            | 92 kB 8.6 MB/s eta 0:00:01\r\u001b[K     |███▋                            | 102 kB 7.7 MB/s eta 0:00:01\r\u001b[K     |████                            | 112 kB 7.7 MB/s eta 0:00:01\r\u001b[K     |████▍                           | 122 kB 7.7 MB/s eta 0:00:01\r\u001b[K     |████▊                           | 133 kB 7.7 MB/s eta 0:00:01\r\u001b[K     |█████▏                          | 143 kB 7.7 MB/s eta 0:00:01\r\u001b[K     |█████▌                          | 153 kB 7.7 MB/s eta 0:00:01\r\u001b[K     |█████▉                          | 163 kB 7.7 MB/s eta 0:00:01\r\u001b[K     |██████▏                         | 174 kB 7.7 MB/s eta 0:00:01\r\u001b[K     |██████▋                         | 184 kB 7.7 MB/s eta 0:00:01\r\u001b[K     |███████                         | 194 kB 7.7 MB/s eta 0:00:01\r\u001b[K     |███████▎                        | 204 kB 7.7 MB/s eta 0:00:01\r\u001b[K     |███████▊                        | 215 kB 7.7 MB/s eta 0:00:01\r\u001b[K     |████████                        | 225 kB 7.7 MB/s eta 0:00:01\r\u001b[K     |████████▍                       | 235 kB 7.7 MB/s eta 0:00:01\r\u001b[K     |████████▉                       | 245 kB 7.7 MB/s eta 0:00:01\r\u001b[K     |█████████▏                      | 256 kB 7.7 MB/s eta 0:00:01\r\u001b[K     |█████████▌                      | 266 kB 7.7 MB/s eta 0:00:01\r\u001b[K     |█████████▉                      | 276 kB 7.7 MB/s eta 0:00:01\r\u001b[K     |██████████▎                     | 286 kB 7.7 MB/s eta 0:00:01\r\u001b[K     |██████████▋                     | 296 kB 7.7 MB/s eta 0:00:01\r\u001b[K     |███████████                     | 307 kB 7.7 MB/s eta 0:00:01\r\u001b[K     |███████████▍                    | 317 kB 7.7 MB/s eta 0:00:01\r\u001b[K     |███████████▊                    | 327 kB 7.7 MB/s eta 0:00:01\r\u001b[K     |████████████                    | 337 kB 7.7 MB/s eta 0:00:01\r\u001b[K     |████████████▍                   | 348 kB 7.7 MB/s eta 0:00:01\r\u001b[K     |████████████▉                   | 358 kB 7.7 MB/s eta 0:00:01\r\u001b[K     |█████████████▏                  | 368 kB 7.7 MB/s eta 0:00:01\r\u001b[K     |█████████████▌                  | 378 kB 7.7 MB/s eta 0:00:01\r\u001b[K     |██████████████                  | 389 kB 7.7 MB/s eta 0:00:01\r\u001b[K     |██████████████▎                 | 399 kB 7.7 MB/s eta 0:00:01\r\u001b[K     |██████████████▋                 | 409 kB 7.7 MB/s eta 0:00:01\r\u001b[K     |███████████████                 | 419 kB 7.7 MB/s eta 0:00:01\r\u001b[K     |███████████████▍                | 430 kB 7.7 MB/s eta 0:00:01\r\u001b[K     |███████████████▊                | 440 kB 7.7 MB/s eta 0:00:01\r\u001b[K     |████████████████                | 450 kB 7.7 MB/s eta 0:00:01\r\u001b[K     |████████████████▌               | 460 kB 7.7 MB/s eta 0:00:01\r\u001b[K     |████████████████▉               | 471 kB 7.7 MB/s eta 0:00:01\r\u001b[K     |█████████████████▏              | 481 kB 7.7 MB/s eta 0:00:01\r\u001b[K     |█████████████████▋              | 491 kB 7.7 MB/s eta 0:00:01\r\u001b[K     |██████████████████              | 501 kB 7.7 MB/s eta 0:00:01\r\u001b[K     |██████████████████▎             | 512 kB 7.7 MB/s eta 0:00:01\r\u001b[K     |██████████████████▋             | 522 kB 7.7 MB/s eta 0:00:01\r\u001b[K     |███████████████████             | 532 kB 7.7 MB/s eta 0:00:01\r\u001b[K     |███████████████████▍            | 542 kB 7.7 MB/s eta 0:00:01\r\u001b[K     |███████████████████▊            | 552 kB 7.7 MB/s eta 0:00:01\r\u001b[K     |████████████████████▏           | 563 kB 7.7 MB/s eta 0:00:01\r\u001b[K     |████████████████████▌           | 573 kB 7.7 MB/s eta 0:00:01\r\u001b[K     |████████████████████▉           | 583 kB 7.7 MB/s eta 0:00:01\r\u001b[K     |█████████████████████▏          | 593 kB 7.7 MB/s eta 0:00:01\r\u001b[K     |█████████████████████▋          | 604 kB 7.7 MB/s eta 0:00:01\r\u001b[K     |██████████████████████          | 614 kB 7.7 MB/s eta 0:00:01\r\u001b[K     |██████████████████████▎         | 624 kB 7.7 MB/s eta 0:00:01\r\u001b[K     |██████████████████████▊         | 634 kB 7.7 MB/s eta 0:00:01\r\u001b[K     |███████████████████████         | 645 kB 7.7 MB/s eta 0:00:01\r\u001b[K     |███████████████████████▍        | 655 kB 7.7 MB/s eta 0:00:01\r\u001b[K     |███████████████████████▉        | 665 kB 7.7 MB/s eta 0:00:01\r\u001b[K     |████████████████████████▏       | 675 kB 7.7 MB/s eta 0:00:01\r\u001b[K     |████████████████████████▌       | 686 kB 7.7 MB/s eta 0:00:01\r\u001b[K     |████████████████████████▉       | 696 kB 7.7 MB/s eta 0:00:01\r\u001b[K     |█████████████████████████▎      | 706 kB 7.7 MB/s eta 0:00:01\r\u001b[K     |█████████████████████████▋      | 716 kB 7.7 MB/s eta 0:00:01\r\u001b[K     |██████████████████████████      | 727 kB 7.7 MB/s eta 0:00:01\r\u001b[K     |██████████████████████████▍     | 737 kB 7.7 MB/s eta 0:00:01\r\u001b[K     |██████████████████████████▊     | 747 kB 7.7 MB/s eta 0:00:01\r\u001b[K     |███████████████████████████     | 757 kB 7.7 MB/s eta 0:00:01\r\u001b[K     |███████████████████████████▍    | 768 kB 7.7 MB/s eta 0:00:01\r\u001b[K     |███████████████████████████▉    | 778 kB 7.7 MB/s eta 0:00:01\r\u001b[K     |████████████████████████████▏   | 788 kB 7.7 MB/s eta 0:00:01\r\u001b[K     |████████████████████████████▌   | 798 kB 7.7 MB/s eta 0:00:01\r\u001b[K     |█████████████████████████████   | 808 kB 7.7 MB/s eta 0:00:01\r\u001b[K     |█████████████████████████████▎  | 819 kB 7.7 MB/s eta 0:00:01\r\u001b[K     |█████████████████████████████▋  | 829 kB 7.7 MB/s eta 0:00:01\r\u001b[K     |██████████████████████████████  | 839 kB 7.7 MB/s eta 0:00:01\r\u001b[K     |██████████████████████████████▍ | 849 kB 7.7 MB/s eta 0:00:01\r\u001b[K     |██████████████████████████████▊ | 860 kB 7.7 MB/s eta 0:00:01\r\u001b[K     |███████████████████████████████ | 870 kB 7.7 MB/s eta 0:00:01\r\u001b[K     |███████████████████████████████▌| 880 kB 7.7 MB/s eta 0:00:01\r\u001b[K     |███████████████████████████████▉| 890 kB 7.7 MB/s eta 0:00:01\r\u001b[K     |████████████████████████████████| 895 kB 7.7 MB/s \n",
            "\u001b[?25hCollecting analytics-python\n",
            "  Downloading analytics_python-1.4.0-py2.py3-none-any.whl (15 kB)\n",
            "Collecting Flask-Login\n",
            "  Downloading Flask_Login-0.5.0-py2.py3-none-any.whl (16 kB)\n",
            "Collecting pydub\n",
            "  Downloading pydub-0.25.1-py2.py3-none-any.whl (32 kB)\n",
            "Requirement already satisfied: requests in /usr/local/lib/python3.7/dist-packages (from gradio) (2.23.0)\n",
            "Requirement already satisfied: Flask>=1.1.1 in /usr/local/lib/python3.7/dist-packages (from gradio) (1.1.4)\n",
            "Requirement already satisfied: numpy in /usr/local/lib/python3.7/dist-packages (from gradio) (1.19.5)\n",
            "Collecting pycryptodome\n",
            "  Downloading pycryptodome-3.12.0-cp35-abi3-manylinux2010_x86_64.whl (2.0 MB)\n",
            "\u001b[K     |████████████████████████████████| 2.0 MB 43.6 MB/s \n",
            "\u001b[?25hCollecting Flask-Cors>=3.0.8\n",
            "  Downloading Flask_Cors-3.0.10-py2.py3-none-any.whl (14 kB)\n",
            "Collecting paramiko\n",
            "  Downloading paramiko-2.9.1-py2.py3-none-any.whl (210 kB)\n",
            "\u001b[K     |████████████████████████████████| 210 kB 55.4 MB/s \n",
            "\u001b[?25hRequirement already satisfied: pandas in /usr/local/lib/python3.7/dist-packages (from gradio) (1.1.5)\n",
            "Requirement already satisfied: pillow in /usr/local/lib/python3.7/dist-packages (from gradio) (7.1.2)\n",
            "Requirement already satisfied: matplotlib in /usr/local/lib/python3.7/dist-packages (from gradio) (3.2.2)\n",
            "Collecting flask-cachebuster\n",
            "  Downloading Flask-CacheBuster-1.0.0.tar.gz (3.1 kB)\n",
            "Collecting markdown2\n",
            "  Downloading markdown2-2.4.2-py2.py3-none-any.whl (34 kB)\n",
            "Collecting ffmpy\n",
            "  Downloading ffmpy-0.3.0.tar.gz (4.8 kB)\n",
            "Requirement already satisfied: click<8.0,>=5.1 in /usr/local/lib/python3.7/dist-packages (from Flask>=1.1.1->gradio) (7.1.2)\n",
            "Requirement already satisfied: itsdangerous<2.0,>=0.24 in /usr/local/lib/python3.7/dist-packages (from Flask>=1.1.1->gradio) (1.1.0)\n",
            "Requirement already satisfied: Jinja2<3.0,>=2.10.1 in /usr/local/lib/python3.7/dist-packages (from Flask>=1.1.1->gradio) (2.11.3)\n",
            "Requirement already satisfied: Werkzeug<2.0,>=0.15 in /usr/local/lib/python3.7/dist-packages (from Flask>=1.1.1->gradio) (1.0.1)\n",
            "Requirement already satisfied: Six in /usr/local/lib/python3.7/dist-packages (from Flask-Cors>=3.0.8->gradio) (1.15.0)\n",
            "Requirement already satisfied: MarkupSafe>=0.23 in /usr/local/lib/python3.7/dist-packages (from Jinja2<3.0,>=2.10.1->Flask>=1.1.1->gradio) (2.0.1)\n",
            "Collecting monotonic>=1.5\n",
            "  Downloading monotonic-1.6-py2.py3-none-any.whl (8.2 kB)\n",
            "Requirement already satisfied: python-dateutil>2.1 in /usr/local/lib/python3.7/dist-packages (from analytics-python->gradio) (2.8.2)\n",
            "Collecting backoff==1.10.0\n",
            "  Downloading backoff-1.10.0-py2.py3-none-any.whl (31 kB)\n",
            "Requirement already satisfied: certifi>=2017.4.17 in /usr/local/lib/python3.7/dist-packages (from requests->gradio) (2021.10.8)\n",
            "Requirement already satisfied: urllib3!=1.25.0,!=1.25.1,<1.26,>=1.21.1 in /usr/local/lib/python3.7/dist-packages (from requests->gradio) (1.24.3)\n",
            "Requirement already satisfied: chardet<4,>=3.0.2 in /usr/local/lib/python3.7/dist-packages (from requests->gradio) (3.0.4)\n",
            "Requirement already satisfied: idna<3,>=2.5 in /usr/local/lib/python3.7/dist-packages (from requests->gradio) (2.10)\n",
            "Requirement already satisfied: cycler>=0.10 in /usr/local/lib/python3.7/dist-packages (from matplotlib->gradio) (0.11.0)\n",
            "Requirement already satisfied: kiwisolver>=1.0.1 in /usr/local/lib/python3.7/dist-packages (from matplotlib->gradio) (1.3.2)\n",
            "Requirement already satisfied: pyparsing!=2.0.4,!=2.1.2,!=2.1.6,>=2.0.1 in /usr/local/lib/python3.7/dist-packages (from matplotlib->gradio) (3.0.6)\n",
            "Requirement already satisfied: pytz>=2017.2 in /usr/local/lib/python3.7/dist-packages (from pandas->gradio) (2018.9)\n",
            "Collecting cryptography>=2.5\n",
            "  Downloading cryptography-36.0.1-cp36-abi3-manylinux_2_24_x86_64.whl (3.6 MB)\n",
            "\u001b[K     |████████████████████████████████| 3.6 MB 60.3 MB/s \n",
            "\u001b[?25hCollecting pynacl>=1.0.1\n",
            "  Downloading PyNaCl-1.4.0-cp35-abi3-manylinux1_x86_64.whl (961 kB)\n",
            "\u001b[K     |████████████████████████████████| 961 kB 73.2 MB/s \n",
            "\u001b[?25hCollecting bcrypt>=3.1.3\n",
            "  Downloading bcrypt-3.2.0-cp36-abi3-manylinux2010_x86_64.whl (63 kB)\n",
            "\u001b[K     |████████████████████████████████| 63 kB 2.4 MB/s \n",
            "\u001b[?25hRequirement already satisfied: cffi>=1.1 in /usr/local/lib/python3.7/dist-packages (from bcrypt>=3.1.3->paramiko->gradio) (1.15.0)\n",
            "Requirement already satisfied: pycparser in /usr/local/lib/python3.7/dist-packages (from cffi>=1.1->bcrypt>=3.1.3->paramiko->gradio) (2.21)\n",
            "Building wheels for collected packages: ffmpy, flask-cachebuster\n",
            "  Building wheel for ffmpy (setup.py) ... \u001b[?25l\u001b[?25hdone\n",
            "  Created wheel for ffmpy: filename=ffmpy-0.3.0-py3-none-any.whl size=4710 sha256=2a8f39f7f002472bf0757ee52fbedd14b609d8436688e5a4dca4ba483ba0896e\n",
            "  Stored in directory: /root/.cache/pip/wheels/13/e4/6c/e8059816e86796a597c6e6b0d4c880630f51a1fcfa0befd5e6\n",
            "  Building wheel for flask-cachebuster (setup.py) ... \u001b[?25l\u001b[?25hdone\n",
            "  Created wheel for flask-cachebuster: filename=Flask_CacheBuster-1.0.0-py3-none-any.whl size=3371 sha256=e5ad4cb5cbda0fd6a8069b1dc003991ba345cb27fbd19e7cd1e4f66f9003e5e2\n",
            "  Stored in directory: /root/.cache/pip/wheels/28/c0/c4/44687421dab41455be93112bd1b0dee1f3c5a9aa27bee63708\n",
            "Successfully built ffmpy flask-cachebuster\n",
            "Installing collected packages: pynacl, monotonic, cryptography, bcrypt, backoff, pydub, pycryptodome, paramiko, markdown2, Flask-Login, Flask-Cors, flask-cachebuster, ffmpy, analytics-python, gradio\n",
            "Successfully installed Flask-Cors-3.0.10 Flask-Login-0.5.0 analytics-python-1.4.0 backoff-1.10.0 bcrypt-3.2.0 cryptography-36.0.1 ffmpy-0.3.0 flask-cachebuster-1.0.0 gradio-2.6.2 markdown2-2.4.2 monotonic-1.6 paramiko-2.9.1 pycryptodome-3.12.0 pydub-0.25.1 pynacl-1.4.0\n"
          ]
        }
      ],
      "source": [
        "!pip install gradio"
      ]
    },
    {
      "cell_type": "code",
      "execution_count": null,
      "metadata": {
        "colab": {
          "base_uri": "https://localhost:8080/"
        },
        "id": "a_ytB0CN2-VV",
        "outputId": "a0afef8b-48c0-47d8-96f5-d6a2e179639f"
      },
      "outputs": [
        {
          "output_type": "stream",
          "name": "stdout",
          "text": [
            "Traceback (most recent call last):\n",
            "  File \"demo.py\", line 11, in <module>\n",
            "    model = torch.hub.load('/Users/robin/Github/yolov5', 'custom', 'pytorch/object-detection/yolov5/experiment1/best.pt', source='local')  # local repo\n",
            "  File \"/usr/local/lib/python3.7/dist-packages/torch/hub.py\", line 399, in load\n",
            "    model = _load_local(repo_or_dir, model, *args, **kwargs)\n",
            "  File \"/usr/local/lib/python3.7/dist-packages/torch/hub.py\", line 425, in _load_local\n",
            "    hub_module = import_module(MODULE_HUBCONF, hubconf_path)\n",
            "  File \"/usr/local/lib/python3.7/dist-packages/torch/hub.py\", line 76, in import_module\n",
            "    spec.loader.exec_module(module)\n",
            "  File \"<frozen importlib._bootstrap_external>\", line 724, in exec_module\n",
            "  File \"<frozen importlib._bootstrap_external>\", line 859, in get_code\n",
            "  File \"<frozen importlib._bootstrap_external>\", line 916, in get_data\n",
            "FileNotFoundError: [Errno 2] No such file or directory: '/Users/robin/Github/yolov5/hubconf.py'\n"
          ]
        }
      ],
      "source": [
        "!python demo.py"
      ]
    }
  ],
  "metadata": {
    "colab": {
      "collapsed_sections": [],
      "name": "Copy of fire control dept",
      "provenance": [],
      "include_colab_link": true
    },
    "kernelspec": {
      "display_name": "Python 3",
      "name": "python3"
    },
    "language_info": {
      "name": "python"
    }
  },
  "nbformat": 4,
  "nbformat_minor": 0
}